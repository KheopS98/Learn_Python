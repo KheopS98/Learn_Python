{
 "cells": [
  {
   "cell_type": "code",
   "execution_count": 6,
   "metadata": {},
   "outputs": [
    {
     "name": "stdout",
     "output_type": "stream",
     "text": [
      "1\n",
      "36\n",
      "[1, 4, 9, 16, 25, 36]\n",
      "['Some shit string', 4, 9, 16, 25, 36]\n",
      "Len of list is: 6\n"
     ]
    }
   ],
   "source": [
    "# Lists literals [i1, i2, i3, i4]\n",
    "# Lists can be empty: list = []\n",
    "# Lists can be indexed, sliced\n",
    "# Lists are mutable DT - can be changed.\n",
    "#Lists can contain any data type\n",
    "#Create an empty list\n",
    "my_list = [] \n",
    "\n",
    "#Mutable\n",
    "my_list = [1,4,9,16,25,36]\n",
    "my_list\n",
    "\n",
    "#index\n",
    "print(my_list[0]) #first item\n",
    "print(my_list[-1]) #last\n",
    "\n",
    "#Let's change the first item\n",
    "print(my_list) #initial list\n",
    "my_list[0] = \"Some shit string\"\n",
    "print(my_list) #list after change the first item\n",
    "\n",
    "#len() of list - 1 indexed\n",
    "print(\"Len of list is:\", len(my_list))\n"
   ]
  },
  {
   "cell_type": "code",
   "execution_count": 8,
   "metadata": {},
   "outputs": [
    {
     "name": "stdout",
     "output_type": "stream",
     "text": [
      "my_list ['Some shit string', 4, 9, 16, 25, 36]\n",
      "anther_list ['Some shit string', 4, 9, 16, 25, 36]\n"
     ]
    }
   ],
   "source": [
    "# Assign an = operator on list does not make a copy.\n",
    "# 2vars will point to the same list\n",
    "print(\"my_list\",my_list)\n",
    "another_list = my_list #another_list will point to the same list.\n",
    "print(\"anther_list\", another_list)\n"
   ]
  },
  {
   "cell_type": "code",
   "execution_count": 9,
   "metadata": {},
   "outputs": [
    {
     "name": "stdout",
     "output_type": "stream",
     "text": [
      "[1, 4, 9, 16, 25, 36, 49]\n"
     ]
    }
   ],
   "source": [
    "# + operator works to append to lists\n",
    "square = [1,4,9,16] #1\n",
    "other = [25,36,49] #2\n",
    "list_append = square + other #\n",
    "print(list_append)"
   ]
  },
  {
   "cell_type": "code",
   "execution_count": 10,
   "metadata": {},
   "outputs": [
    {
     "name": "stdout",
     "output_type": "stream",
     "text": [
      "[1, 4, 9, 16, 25, 36, 55, 22]\n"
     ]
    }
   ],
   "source": [
    "# Append with + \n",
    "square = [1,4,9,16] #1\n",
    "square = square + [25,36,55,22]\n",
    "print(square)"
   ]
  },
  {
   "cell_type": "code",
   "execution_count": 11,
   "metadata": {},
   "outputs": [
    {
     "name": "stdout",
     "output_type": "stream",
     "text": [
      "168\n"
     ]
    }
   ],
   "source": [
    "#For and IN\n",
    "#For syntax:\n",
    "# for local_var in collection:\n",
    "    #do something\n",
    "#something like foreach- to iterate collections\n",
    "sum = 0 \n",
    "for num in square:\n",
    "    sum += num\n",
    "print(sum)"
   ]
  },
  {
   "cell_type": "code",
   "execution_count": 17,
   "metadata": {},
   "outputs": [
    {
     "name": "stdout",
     "output_type": "stream",
     "text": [
      "is\n",
      "moee\n",
      "poee\n"
     ]
    }
   ],
   "source": [
    "#Test if an items is part of collection\n",
    "square\n",
    "if 25 in square:\n",
    "    print(\"is\")\n",
    "    \n",
    "#check if last char ends with \"e\"\n",
    "list_str = [\"moee\", \"doer\", \"poee\"]\n",
    "for item in list_str:\n",
    "    if item[-1] == \"e\":\n",
    "        print(item)\n",
    "        \n",
    "        "
   ]
  },
  {
   "cell_type": "code",
   "execution_count": 25,
   "metadata": {},
   "outputs": [
    {
     "name": "stdout",
     "output_type": "stream",
     "text": [
      "w f w f a w d a w d a w t "
     ]
    }
   ],
   "source": [
    "#Iterate a string with for \n",
    "my_string = \"wfwfawdawdawt\"\n",
    "for ch in my_string:\n",
    "    print(ch, end=\" \")"
   ]
  },
  {
   "cell_type": "code",
   "execution_count": 26,
   "metadata": {},
   "outputs": [
    {
     "name": "stdout",
     "output_type": "stream",
     "text": [
      "0 1 2 3 4 5 6 7 8 9 "
     ]
    }
   ],
   "source": [
    "# range(n) from 0 to n-1\n",
    "# range(a,b) a, a+1,a+2....,b-1(b excluded)\n",
    "#Looks like a traditional for loop\n",
    "for i in range(0,10): #0-9\n",
    "    print(i,end=\" \")"
   ]
  },
  {
   "cell_type": "code",
   "execution_count": 31,
   "metadata": {},
   "outputs": [
    {
     "name": "stdout",
     "output_type": "stream",
     "text": [
      "0 3 6 9 "
     ]
    }
   ],
   "source": [
    "# while expression:\n",
    "    # do something\n",
    "# break and continue works fine\n",
    "# Access every 3rd element in a list\n",
    "list_num = [0,1,2,3,4,5,6,7,8,9,10]\n",
    "i = 0\n",
    "while i < len(list_num):\n",
    "    print(list_num[i],end=\" \")\n",
    "    i+=3"
   ]
  },
  {
   "cell_type": "code",
   "execution_count": 36,
   "metadata": {},
   "outputs": [
    {
     "name": "stdout",
     "output_type": "stream",
     "text": [
      "Enter:wfw\n",
      "y or n: n\n",
      "['wfw']\n"
     ]
    }
   ],
   "source": [
    "# Lists Functions()\n",
    "# list_name.append(elem) - add a single element to the end  of the list, modify the original ,dosen't return a new list\n",
    "#Append to list dinamic\n",
    "empty_list = []\n",
    "adding = True\n",
    "while(adding):\n",
    "    propt = input(\"Enter:\")\n",
    "    empty_list.append(propt)\n",
    "    check_for_add = input(\"y or n: \")\n",
    "    if check_for_add != \"y\":\n",
    "        adding = False\n",
    "        \n",
    "print(empty_list)"
   ]
  },
  {
   "cell_type": "code",
   "execution_count": 37,
   "metadata": {},
   "outputs": [
    {
     "name": "stdout",
     "output_type": "stream",
     "text": [
      "[1, 2, 3, 'some', 'value', 'extra', 2.55, 'other value']\n",
      "[1, 2, 3, 'some value', 'some', 'value', 'extra', 2.55, 'other value']\n"
     ]
    }
   ],
   "source": [
    "#list_name.insert(index,elem) --insert the elem in a specific index, shift elements to the right\n",
    "new_list= [1, 2, 3, 'some', 'value', 'extra', 2.55]\n",
    "new_list.append(\"other value\")\n",
    "print(new_list)\n",
    "new_list.insert(3, \"some value\")\n",
    "print(new_list)\n",
    "#old index 3 value will become 4 and will be shifted to the right of list."
   ]
  },
  {
   "cell_type": "code",
   "execution_count": 41,
   "metadata": {},
   "outputs": [
    {
     "name": "stdout",
     "output_type": "stream",
     "text": [
      "['these', 'are', 'some', 'random', 'values']\n",
      "[1, 2, 3, 'some value', 'some', 'value', 'extra', 2.55, 'other value', 'these', 'are', 'some', 'random', 'values', 'these', 'are', 'some', 'random', 'values']\n"
     ]
    }
   ],
   "source": [
    "#list_name.extend(list2) -- adds the element in list2 to the end of the list. Similar with + or +=\n",
    "list2 = ['these', 'are', 'some','random', 'values']\n",
    "new_list.extend(list2)\n",
    "print(list2)\n",
    "print(new_list)"
   ]
  },
  {
   "cell_type": "code",
   "execution_count": 45,
   "metadata": {},
   "outputs": [
    {
     "ename": "ValueError",
     "evalue": "'gewefe' is not in list",
     "output_type": "error",
     "traceback": [
      "\u001b[0;31m---------------------------------------------------------------------------\u001b[0m",
      "\u001b[0;31mValueError\u001b[0m                                Traceback (most recent call last)",
      "\u001b[0;32m<ipython-input-45-a885201b0481>\u001b[0m in \u001b[0;36m<module>\u001b[0;34m\u001b[0m\n\u001b[1;32m      4\u001b[0m \u001b[0;34m\u001b[0m\u001b[0m\n\u001b[1;32m      5\u001b[0m \u001b[0;31m#search for a elem that not appear\u001b[0m\u001b[0;34m\u001b[0m\u001b[0;34m\u001b[0m\u001b[0;34m\u001b[0m\u001b[0m\n\u001b[0;32m----> 6\u001b[0;31m \u001b[0mnew_list\u001b[0m\u001b[0;34m.\u001b[0m\u001b[0mindex\u001b[0m\u001b[0;34m(\u001b[0m\u001b[0;34m\"gewefe\"\u001b[0m\u001b[0;34m)\u001b[0m \u001b[0;31m#value error\u001b[0m\u001b[0;34m\u001b[0m\u001b[0;34m\u001b[0m\u001b[0m\n\u001b[0m\u001b[1;32m      7\u001b[0m \u001b[0;34m\u001b[0m\u001b[0m\n\u001b[1;32m      8\u001b[0m \u001b[0;34m\u001b[0m\u001b[0m\n",
      "\u001b[0;31mValueError\u001b[0m: 'gewefe' is not in list"
     ]
    }
   ],
   "source": [
    "# list_name.index(elem) --search for the given element from the start of te lost and return it's index\n",
    "# Throw a ValueError if the elem not appear\n",
    "new_list.index(\"extra\") #found at index 6\n",
    "\n",
    "#search for a elem that not appear\n",
    "new_list.index(\"gewefe\") #value error"
   ]
  },
  {
   "cell_type": "code",
   "execution_count": 47,
   "metadata": {
    "scrolled": true
   },
   "outputs": [
    {
     "ename": "ValueError",
     "evalue": "list.remove(x): x not in list",
     "output_type": "error",
     "traceback": [
      "\u001b[0;31m---------------------------------------------------------------------------\u001b[0m",
      "\u001b[0;31mValueError\u001b[0m                                Traceback (most recent call last)",
      "\u001b[0;32m<ipython-input-47-446099e752f4>\u001b[0m in \u001b[0;36m<module>\u001b[0;34m\u001b[0m\n\u001b[1;32m      1\u001b[0m \u001b[0;31m#list_name.remove(elem) -- same as index but remove the elem if is found. Throw ValueError if not found.\u001b[0m\u001b[0;34m\u001b[0m\u001b[0;34m\u001b[0m\u001b[0;34m\u001b[0m\u001b[0m\n\u001b[0;32m----> 2\u001b[0;31m \u001b[0mnew_list\u001b[0m\u001b[0;34m.\u001b[0m\u001b[0mremove\u001b[0m\u001b[0;34m(\u001b[0m\u001b[0;34m\"extra\"\u001b[0m\u001b[0;34m)\u001b[0m\u001b[0;34m\u001b[0m\u001b[0;34m\u001b[0m\u001b[0m\n\u001b[0m",
      "\u001b[0;31mValueError\u001b[0m: list.remove(x): x not in list"
     ]
    }
   ],
   "source": [
    "#list_name.remove(elem) -- same as index but remove the elem if is found. Throw ValueError if not found.\n",
    "new_list.remove(\"extra\") #remove extra\n",
    "new_list.remove(\"extra\") #ValueError cuz have been already removed"
   ]
  },
  {
   "cell_type": "code",
   "execution_count": null,
   "metadata": {},
   "outputs": [],
   "source": [
    "#list_name.sort() -- sorts the list but does not return it"
   ]
  },
  {
   "cell_type": "code",
   "execution_count": null,
   "metadata": {},
   "outputs": [],
   "source": [
    "#list_name.sorted() -- return one"
   ]
  },
  {
   "cell_type": "code",
   "execution_count": null,
   "metadata": {},
   "outputs": [],
   "source": [
    "#list_name.reverse() -- reverse the list in place"
   ]
  },
  {
   "cell_type": "code",
   "execution_count": null,
   "metadata": {},
   "outputs": [],
   "source": [
    "#list_name.pop(index) -- remove "
   ]
  },
  {
   "cell_type": "code",
   "execution_count": null,
   "metadata": {},
   "outputs": [],
   "source": []
  },
  {
   "cell_type": "code",
   "execution_count": null,
   "metadata": {},
   "outputs": [],
   "source": []
  },
  {
   "cell_type": "code",
   "execution_count": null,
   "metadata": {},
   "outputs": [],
   "source": []
  },
  {
   "cell_type": "code",
   "execution_count": null,
   "metadata": {},
   "outputs": [],
   "source": []
  },
  {
   "cell_type": "code",
   "execution_count": null,
   "metadata": {},
   "outputs": [],
   "source": []
  },
  {
   "cell_type": "code",
   "execution_count": null,
   "metadata": {},
   "outputs": [],
   "source": []
  },
  {
   "cell_type": "code",
   "execution_count": null,
   "metadata": {},
   "outputs": [],
   "source": []
  },
  {
   "cell_type": "code",
   "execution_count": null,
   "metadata": {},
   "outputs": [],
   "source": []
  },
  {
   "cell_type": "code",
   "execution_count": null,
   "metadata": {},
   "outputs": [],
   "source": []
  },
  {
   "cell_type": "code",
   "execution_count": null,
   "metadata": {},
   "outputs": [],
   "source": []
  },
  {
   "cell_type": "code",
   "execution_count": null,
   "metadata": {},
   "outputs": [],
   "source": []
  },
  {
   "cell_type": "code",
   "execution_count": null,
   "metadata": {},
   "outputs": [],
   "source": []
  },
  {
   "cell_type": "code",
   "execution_count": null,
   "metadata": {},
   "outputs": [],
   "source": []
  },
  {
   "cell_type": "code",
   "execution_count": null,
   "metadata": {},
   "outputs": [],
   "source": []
  },
  {
   "cell_type": "code",
   "execution_count": null,
   "metadata": {},
   "outputs": [],
   "source": []
  },
  {
   "cell_type": "code",
   "execution_count": null,
   "metadata": {},
   "outputs": [],
   "source": []
  },
  {
   "cell_type": "code",
   "execution_count": null,
   "metadata": {},
   "outputs": [],
   "source": []
  },
  {
   "cell_type": "code",
   "execution_count": null,
   "metadata": {},
   "outputs": [],
   "source": []
  },
  {
   "cell_type": "code",
   "execution_count": null,
   "metadata": {},
   "outputs": [],
   "source": []
  },
  {
   "cell_type": "code",
   "execution_count": null,
   "metadata": {},
   "outputs": [],
   "source": []
  },
  {
   "cell_type": "code",
   "execution_count": null,
   "metadata": {},
   "outputs": [],
   "source": []
  },
  {
   "cell_type": "code",
   "execution_count": null,
   "metadata": {},
   "outputs": [],
   "source": []
  },
  {
   "cell_type": "code",
   "execution_count": null,
   "metadata": {},
   "outputs": [],
   "source": []
  },
  {
   "cell_type": "code",
   "execution_count": null,
   "metadata": {},
   "outputs": [],
   "source": []
  },
  {
   "cell_type": "code",
   "execution_count": null,
   "metadata": {},
   "outputs": [],
   "source": []
  },
  {
   "cell_type": "code",
   "execution_count": null,
   "metadata": {},
   "outputs": [],
   "source": []
  },
  {
   "cell_type": "code",
   "execution_count": null,
   "metadata": {},
   "outputs": [],
   "source": []
  },
  {
   "cell_type": "code",
   "execution_count": null,
   "metadata": {},
   "outputs": [],
   "source": []
  }
 ],
 "metadata": {
  "kernelspec": {
   "display_name": "Python 3",
   "language": "python",
   "name": "python3"
  },
  "language_info": {
   "codemirror_mode": {
    "name": "ipython",
    "version": 3
   },
   "file_extension": ".py",
   "mimetype": "text/x-python",
   "name": "python",
   "nbconvert_exporter": "python",
   "pygments_lexer": "ipython3",
   "version": "3.7.3"
  }
 },
 "nbformat": 4,
 "nbformat_minor": 2
}
