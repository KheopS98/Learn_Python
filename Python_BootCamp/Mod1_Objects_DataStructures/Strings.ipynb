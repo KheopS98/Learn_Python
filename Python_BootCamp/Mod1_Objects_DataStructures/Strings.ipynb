{
 "cells": [
  {
   "cell_type": "code",
   "execution_count": 2,
   "metadata": {},
   "outputs": [
    {
     "name": "stdout",
     "output_type": "stream",
     "text": [
      "Hello\n",
      "Hello\n",
      "\n",
      "This massage can \n",
      "    spam multiple\n",
      "        Lines.\n",
      "\n"
     ]
    }
   ],
   "source": [
    "# ''- single quote , \"\"- double quotes  \"\"\" \"\"\" - triple quotes can spam multiple lines\n",
    "message = 'Hello'\n",
    "print(message)\n",
    "message = \"Hello\"\n",
    "print(message)\n",
    "message = \"\"\"\n",
    "This massage can \n",
    "    spam multiple\n",
    "        Lines.\n",
    "\"\"\"\n",
    "print(message)"
   ]
  },
  {
   "cell_type": "code",
   "execution_count": 8,
   "metadata": {},
   "outputs": [
    {
     "name": "stdout",
     "output_type": "stream",
     "text": [
      "H\n",
      "o\n",
      "Len of Hello is : 5\n",
      "H\n"
     ]
    }
   ],
   "source": [
    "# Strings are ordered sequance of characters, can be indexed and sliced\n",
    "# Strings are immutable, once created we can't change it theow slice or indexing\n",
    "# index message[0] - first char   message[-1] - last char \n",
    "# index notation start with [] after the name_var   name_var[n]\n",
    "# index allows u to grab single character from string\n",
    "# first char with negative index will be : -n cuz is 0 indexed \n",
    "# Hello - 0 H  -1 o  -5H \n",
    "# len() - count spaces too and is 1 indexed\n",
    "text = \"Hello\"\n",
    "print(text[0])# H\n",
    "print(text[-1])# o\n",
    "print(\"Len of Hello is :\", len(text)) #n\n",
    "print(text[-5]) # -n\n"
   ]
  },
  {
   "cell_type": "code",
   "execution_count": 9,
   "metadata": {
    "scrolled": false
   },
   "outputs": [
    {
     "name": "stdout",
     "output_type": "stream",
     "text": [
      "Hel\n",
      "Hell\n",
      "Hello\n",
      "Hel\n",
      "ello\n"
     ]
    }
   ],
   "source": [
    "#Sliceing grab a sequce of characters from string\n",
    "# Carefull spaces are counted too.\n",
    "# Syntax: [start:stop:step] - start included stop-excluded step - size of jump\n",
    "# name_var[start:stop]\n",
    "print(text[0:3]) #0 1 2  Hel\n",
    "print(text[0:-1]) # 0 1 2 3\n",
    "print(text[:]) # 0 1 2 3 4 go throw the whole string\n",
    "print(text[:3]) # start ... 3 excluded\n",
    "print(text[1:]) # 1 included ... end of string"
   ]
  },
  {
   "cell_type": "code",
   "execution_count": 10,
   "metadata": {},
   "outputs": [
    {
     "name": "stdout",
     "output_type": "stream",
     "text": [
      "Hlo\n",
      "acegi\n",
      "02468\n",
      "0369\n",
      "13579\n"
     ]
    }
   ],
   "source": [
    "#name_var[start:stop:step]\n",
    "print(text[::2])#whole string with step 2\n",
    "alfab = \"abcdefghij\"\n",
    "print(alfab[::2])# 2 in 2\n",
    "numbers = \"0123456789\"\n",
    "print(numbers[::2]) #even\n",
    "print(numbers[::3]) #odd\n",
    "print(numbers[1::2]) # odd != 0\n"
   ]
  },
  {
   "cell_type": "code",
   "execution_count": 31,
   "metadata": {},
   "outputs": [
    {
     "name": "stdout",
     "output_type": "stream",
     "text": [
      "Dolete Anton\n",
      "DOLETE ANTON\n",
      "dolete anton\n",
      "dOleTe anTon is: False\n",
      "DoleteAnton is: True\n",
      "0123456789 is: True\n",
      "True\n",
      "0123456789 starts with 012: True\n",
      "True\n",
      "-1\n",
      "7\n",
      "New Text Gorgh\n",
      "['Text1', 'Text2', 'Text4', 'Text2']\n",
      "['Ana', 'Andreea', 'Giani', 'HeHe', 'xD']\n",
      "Sep1#Sep 2#Sep3\n"
     ]
    }
   ],
   "source": [
    "# String Functions:\n",
    "name = \"dOleTe anTon\"\n",
    "#name_var.title() - make first letter of a word uppercase and rest lower\n",
    "print(name.title()) # Dolete Anton\n",
    "\n",
    "#name_var.upper() - make it uppercase\n",
    "print(name.upper()) # DOLETE ANTON\n",
    "\n",
    "#name_var.lower() - make it lowercase\n",
    "print(name.lower()) #dolete anton\n",
    "\n",
    "#name_var.isalpha() ,name_var.isdigit() , name_var.isspace() - returns bool\n",
    "#name.var.isalpha() - check if all the characters all letters\n",
    "print(name + \" is: \"+ str(name.isalpha()))\n",
    "name_0_space = \"DoleteAnton\"\n",
    "print(name_0_space + \" is: \"+ str(name_0_space.isalpha())) #space is counted\n",
    "\n",
    "#name_var.isdigit() - check if all the characters are digit\n",
    "print(numbers+ \" is: \"+ str(numbers.isdigit()))\n",
    "\n",
    "#name_var.ispace() - check if the strin contain space \"\" != \" \"\n",
    "empty_string = \" \"\n",
    "print(empty_string.isspace())\n",
    "\n",
    "#name_var.startswith(\"something\") , name_var.endswith(\"something\")\n",
    "print(numbers + \" starts with 012: \"+ str(numbers.startswith(\"012\")))\n",
    "\n",
    "print(numbers.endswith(\"789\"))\n",
    "\n",
    "#var_name.find('string') - search for a seq of characters and return the index if found, -1 if !found\n",
    "print(name.find(\"Dol\")) #-1\n",
    "print(name.find(\"anT\")) #7\n",
    "\n",
    "#var_name.replace(\"old\",\"new\") - return a copy of string, strings are immutable can t be changed.\n",
    "some_text = \"Abcdef Gorgh\"\n",
    "new_string = some_text.replace(\"Abcdef\", \"New Text\")\n",
    "print(new_string)\n",
    "\n",
    "#var_name.split(\"delimitator\") - return a list of substrings\n",
    "some_text = \"Text1,Text2,Text4,Text2\"\n",
    "print(some_text.split(\",\")) # [\"Text1\", \"Text2\"...] - this function returns a list\n",
    "\n",
    "#var_name.split() - with 0 args split all the whitespaces\n",
    "some_text = \"Form1 Span Method HeHe xD\"\n",
    "print(some_text.split()) #[\"Form1\", \"Span\", \"Method\", \"HeHe\", \"xD\"]\n",
    "\n",
    "#The Python join() method is a string method, and takes a list of things to join with the string. \n",
    "print(\"#\".join([\"Sep1\", \"Sep2\", \"Sep3\"])) #Sep1#Sep2#Sep3\n",
    "\n"
   ]
  },
  {
   "cell_type": "code",
   "execution_count": 61,
   "metadata": {},
   "outputs": [
    {
     "name": "stdout",
     "output_type": "stream",
     "text": [
      "Here is an 5 ,follow by an string and a 2.55 .\n"
     ]
    }
   ],
   "source": [
    "#printf style\n",
    "#Format on the left (\"#d int %s string %f,g float\") % and match the values from tuple (3, 'string' , 2.55)\n",
    "print(\"Here is an %d ,follow by an %s and a %2.2f .\" % (5,\"string\",2.55)) \n",
    "#for float 2.2f mean 00.00\n"
   ]
  },
  {
   "cell_type": "code",
   "execution_count": 50,
   "metadata": {},
   "outputs": [
    {
     "data": {
      "text/plain": [
       "'Number of donuts: 5'"
      ]
     },
     "execution_count": 50,
     "metadata": {},
     "output_type": "execute_result"
    }
   ],
   "source": [
    "# A. donuts\n",
    "# Given an int count of a number of donuts, return a string\n",
    "# of the form 'Number of donuts: <count>', where <count> is the number\n",
    "# passed in. However, if the count is 10 or more, then use the word 'many'\n",
    "# instead of the actual count.\n",
    "# So donuts(5) returns 'Number of donuts: 5'\n",
    "# and donuts(23) returns 'Number of donuts: many'\n",
    "def donuts(count):\n",
    "    if(count < 10):\n",
    "        return \"Number of donuts: \" + str(count)\n",
    "    else:\n",
    "        return \"Number of dunuts: Many\"\n",
    "    \n",
    "donuts(5)"
   ]
  },
  {
   "cell_type": "code",
   "execution_count": 70,
   "metadata": {},
   "outputs": [
    {
     "data": {
      "text/plain": [
       "'Abhi'"
      ]
     },
     "execution_count": 70,
     "metadata": {},
     "output_type": "execute_result"
    }
   ],
   "source": [
    "# B. both_ends\n",
    "# Given a string s, return a string made of the first 2\n",
    "# and the last 2 chars of the original string,\n",
    "# so 'spring' yields 'spng'. However, if the string length\n",
    "# is less than 2, return instead the empty string.\n",
    "def both_ends(s):\n",
    "  new_string = s[0:2] + s[-2:] #0:2 first 2 //// -2: ->\n",
    "  return new_string\n",
    "\n",
    "both_ends(\"Abcdefghi\")"
   ]
  },
  {
   "cell_type": "code",
   "execution_count": null,
   "metadata": {},
   "outputs": [],
   "source": []
  },
  {
   "cell_type": "code",
   "execution_count": null,
   "metadata": {},
   "outputs": [],
   "source": []
  },
  {
   "cell_type": "code",
   "execution_count": null,
   "metadata": {},
   "outputs": [],
   "source": []
  },
  {
   "cell_type": "code",
   "execution_count": null,
   "metadata": {},
   "outputs": [],
   "source": []
  },
  {
   "cell_type": "code",
   "execution_count": null,
   "metadata": {},
   "outputs": [],
   "source": []
  },
  {
   "cell_type": "code",
   "execution_count": null,
   "metadata": {},
   "outputs": [],
   "source": []
  }
 ],
 "metadata": {
  "kernelspec": {
   "display_name": "Python 3",
   "language": "python",
   "name": "python3"
  },
  "language_info": {
   "codemirror_mode": {
    "name": "ipython",
    "version": 3
   },
   "file_extension": ".py",
   "mimetype": "text/x-python",
   "name": "python",
   "nbconvert_exporter": "python",
   "pygments_lexer": "ipython3",
   "version": "3.7.3"
  }
 },
 "nbformat": 4,
 "nbformat_minor": 2
}
