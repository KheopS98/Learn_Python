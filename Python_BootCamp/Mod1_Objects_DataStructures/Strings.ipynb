{
 "cells": [
  {
   "cell_type": "code",
   "execution_count": 2,
   "metadata": {},
   "outputs": [
    {
     "name": "stdout",
     "output_type": "stream",
     "text": [
      "Hello\n",
      "Hello\n",
      "\n",
      "This massage can \n",
      "    spam multiple\n",
      "        Lines.\n",
      "\n"
     ]
    }
   ],
   "source": [
    "# ''- single quote , \"\"- double quotes  \"\"\" \"\"\" - triple quotes can spam multiple lines\n",
    "message = 'Hello'\n",
    "print(message)\n",
    "message = \"Hello\"\n",
    "print(message)\n",
    "message = \"\"\"\n",
    "This massage can \n",
    "    spam multiple\n",
    "        Lines.\n",
    "\"\"\"\n",
    "print(message)"
   ]
  },
  {
   "cell_type": "code",
   "execution_count": 6,
   "metadata": {},
   "outputs": [
    {
     "name": "stdout",
     "output_type": "stream",
     "text": [
      "H\n",
      "o\n",
      "Len of Hello is : 5\n",
      "H\n"
     ]
    }
   ],
   "source": [
    "# Strings are ordered sequance of characters, can be indexed and sliced\n",
    "# Strings are immutable, once created we can't change it theow slice or indexing\n",
    "# index message[0] - first char   message[-1] - last char \n",
    "# index notation start with [] after the name_var   name_var[n]\n",
    "# index allows u to grab single character from string\n",
    "# first char with negative index will be : -n cuz is 0 indexed \n",
    "# Hello - 0 H  -1 o  -5H \n",
    "# len() - count spaces too and is 1 indexed\n",
    "text = \"Hello\"\n",
    "print(text[0])# H\n",
    "print(text[-1])# o\n",
    "print(\"Len of Hello is :\", len(text)) #n\n",
    "print(text[-5]) # -n\n"
   ]
  },
  {
   "cell_type": "code",
   "execution_count": 22,
   "metadata": {},
   "outputs": [
    {
     "name": "stdout",
     "output_type": "stream",
     "text": [
      "Hel\n",
      "Hell\n",
      "Hello\n",
      "Hel\n"
     ]
    }
   ],
   "source": [
    "#Sliceing grab a sequce of characters from string\n",
    "# Carefull spaces are counted too.\n",
    "# Syntax: [start:stop:step] - start included stop-excluded step - size of jump\n",
    "# name_var[start:stop]\n",
    "print(text[0:3]) #0 1 2  Hel\n",
    "print(text[0:-1]) # 0 1 2 3\n",
    "print(text[:]) # 0 1 2 3 4 go throw the whole string\n",
    "print(text[:3]) # start ... 3 excluded\n",
    "print(text[1:]) # 1 included ... end of string"
   ]
  },
  {
   "cell_type": "code",
   "execution_count": 28,
   "metadata": {},
   "outputs": [
    {
     "name": "stdout",
     "output_type": "stream",
     "text": [
      "Hlo\n",
      "acegi\n",
      "02468\n",
      "0369\n",
      "13579\n"
     ]
    }
   ],
   "source": [
    "#name_var[start:stop:step]\n",
    "print(text[::2])#whole string with step 2\n",
    "alfab = \"abcdefghij\"\n",
    "print(alfab[::2])# 2 in 2\n",
    "numbers = \"0123456789\"\n",
    "print(numbers[::2]) #even\n",
    "print(numbers[::3]) #odd\n",
    "print(numbers[1::2]) # odd != 0\n"
   ]
  },
  {
   "cell_type": "code",
   "execution_count": 31,
   "metadata": {},
   "outputs": [
    {
     "name": "stdout",
     "output_type": "stream",
     "text": [
      "Dolete Anton\n",
      "DOLETE ANTON\n",
      "dolete anton\n"
     ]
    }
   ],
   "source": [
    "# String Functions:\n",
    "name = \"dOleTe anTon\"\n",
    "#name_var.title() - make first letter of a word uppercase and rest lower\n",
    "print(name.title()) # Dolete Anton\n",
    "\n",
    "#name_var.upper() - make it uppercase\n",
    "print(name.upper()) # DOLETE ANTON\n",
    "\n",
    "#name_var.lower() - make it lowercase\n",
    "print(name.lower()) #dolete anton\n",
    "\n",
    "#Continue with that home............"
   ]
  },
  {
   "cell_type": "code",
   "execution_count": null,
   "metadata": {},
   "outputs": [],
   "source": []
  },
  {
   "cell_type": "code",
   "execution_count": null,
   "metadata": {},
   "outputs": [],
   "source": []
  },
  {
   "cell_type": "code",
   "execution_count": null,
   "metadata": {},
   "outputs": [],
   "source": []
  },
  {
   "cell_type": "code",
   "execution_count": null,
   "metadata": {},
   "outputs": [],
   "source": []
  },
  {
   "cell_type": "code",
   "execution_count": null,
   "metadata": {},
   "outputs": [],
   "source": []
  },
  {
   "cell_type": "code",
   "execution_count": null,
   "metadata": {},
   "outputs": [],
   "source": []
  },
  {
   "cell_type": "code",
   "execution_count": null,
   "metadata": {},
   "outputs": [],
   "source": []
  },
  {
   "cell_type": "code",
   "execution_count": null,
   "metadata": {},
   "outputs": [],
   "source": []
  },
  {
   "cell_type": "code",
   "execution_count": null,
   "metadata": {},
   "outputs": [],
   "source": []
  }
 ],
 "metadata": {
  "kernelspec": {
   "display_name": "Python 3",
   "language": "python",
   "name": "python3"
  },
  "language_info": {
   "codemirror_mode": {
    "name": "ipython",
    "version": 3
   },
   "file_extension": ".py",
   "mimetype": "text/x-python",
   "name": "python",
   "nbconvert_exporter": "python",
   "pygments_lexer": "ipython3",
   "version": "3.7.3"
  }
 },
 "nbformat": 4,
 "nbformat_minor": 2
}
